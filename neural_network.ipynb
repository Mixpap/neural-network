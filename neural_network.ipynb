{
 "cells": [
  {
   "cell_type": "code",
   "execution_count": null,
   "metadata": {
    "collapsed": true
   },
   "outputs": [],
   "source": []
  },
  {
   "cell_type": "code",
   "execution_count": 27,
   "metadata": {
    "collapsed": false
   },
   "outputs": [
    {
     "name": "stdout",
     "output_type": "stream",
     "text": [
      "5923\n",
      "(10,)\n"
     ]
    }
   ],
   "source": [
    "%matplotlib inline\n",
    "import matplotlib.pyplot as plt\n",
    "import matplotlib.image as mpimg\n",
    "import numpy as np\n",
    "from PIL import Image\n",
    "\n",
    "\n",
    "def load_data(file):\n",
    "    list = []\n",
    "    with open(file, 'r') as fp:\n",
    "        for line in fp:\n",
    "            list.append(line.strip(\"\\n\"))\n",
    "    return list\n",
    "\n",
    "if __name__ == '__main__':\n",
    "    train_files = ['data/train%d.txt'% (i,) for i in range(10)]\n",
    "    test_files = ['data/test%d.txt'% (i,) for i in range(10) ]\n",
    "    counter = 0\n",
    "    for i in test_files:\n",
    "        with open(i, 'r') as fp:\n",
    "            counter += len(fp.readlines())\n",
    "    print \"train_data = \", counter\n",
    "    b = np.array(zeros[0].split(\" \")).reshape(28,28)\n",
    "    img = Image.fromarray(b, 'RGB')\n",
    "    imgplot = plt.imshow(img)\n",
    "    tmp = []\n",
    "    for i in train_files:\n",
    "        with open(i, 'r') as fp:\n",
    "            tmp += fp.readlines()\n",
    "    print len(tmp)\n",
    "    train_data = np.array([[j for j in i.split(\" \")] for i in tmp])\n",
    "    tmp = []\n",
    "    for i in test_files:\n",
    "        with open(i, 'r') as fp:\n",
    "            tmp += fp.readlines()\n",
    "    print len(tmp)\n",
    "    test_data = np.array([[j for j in i.split(\" \")] for i in tmp])\n",
    "    print train_data.shape, test_data.shape\n",
    "    truth = []\n",
    "    for i, _file in enumerate(train_files):\n",
    "        with open(_file , 'r') as fp:\n",
    "            truth.append([[1 if j == i else 0 for j in range(0,10)] for line in range(len(fp.readlines()))])\n",
    "    print len(truth[0])\n",
    "    ground_truth = np.array(truth)\n",
    "    print ground_truth.shape"
   ]
  },
  {
   "cell_type": "code",
   "execution_count": null,
   "metadata": {
    "collapsed": true
   },
   "outputs": [],
   "source": []
  },
  {
   "cell_type": "code",
   "execution_count": null,
   "metadata": {
    "collapsed": true
   },
   "outputs": [],
   "source": []
  }
 ],
 "metadata": {
  "kernelspec": {
   "display_name": "Python 2",
   "language": "python",
   "name": "python2"
  },
  "language_info": {
   "codemirror_mode": {
    "name": "ipython",
    "version": 2
   },
   "file_extension": ".py",
   "mimetype": "text/x-python",
   "name": "python",
   "nbconvert_exporter": "python",
   "pygments_lexer": "ipython2",
   "version": "2.7.6"
  }
 },
 "nbformat": 4,
 "nbformat_minor": 0
}
